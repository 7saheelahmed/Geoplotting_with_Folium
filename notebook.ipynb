{
 "cells": [
  {
   "cell_type": "code",
   "execution_count": 1,
   "metadata": {},
   "outputs": [],
   "source": [
    "#importing libraries\n",
    "import pandas as pd\n",
    "import folium\n",
    "import os"
   ]
  },
  {
   "cell_type": "code",
   "execution_count": 7,
   "metadata": {},
   "outputs": [],
   "source": [
    "# importing the states and unemployment data from the Data directory\n",
    "states = os.path.join('Data','US_States.json')\n",
    "unemployment_data = os.path.join('Data','US_Unemployment.csv')\n",
    "state_data = pd.read_csv(unemployment_data)"
   ]
  },
  {
   "cell_type": "code",
   "execution_count": 8,
   "metadata": {},
   "outputs": [],
   "source": [
    "# creating the folium map object with initial coordinates and zoom parameter\n",
    "m = folium.Map(location = [48,-102],zoom_start = 3)"
   ]
  },
  {
   "cell_type": "markdown",
   "metadata": {},
   "source": [
    "* The above line of code creates a map with an initial coordinates using Folium. It creates a separate HTML file for the map but you can also visualize it in jupyter notebook itself."
   ]
  },
  {
   "cell_type": "code",
   "execution_count": 15,
   "metadata": {},
   "outputs": [],
   "source": [
    "# the below code creates a layer above the folium map using Geojson data with different colors.\n",
    "m.choropleth(\n",
    "            #GeoJson data for creating the layer\n",
    "            geo_data = states,\n",
    "            #intialising the choropleth name object\n",
    "            name = 'choropleth',\n",
    "            #csv data to bind to the GeoJSON \n",
    "            data = state_data,\n",
    "            #columns to be used from the csv file above\n",
    "            columns = ['State','Unemployment'],\n",
    "            #Variable in the GeoJSON file to bind the data to\n",
    "            key_on = 'feature.id',\n",
    "            #parameter for filling color on the map\n",
    "            fill_color ='YlGnBu',\n",
    "            fill_opacity = 0.7,\n",
    "            line_opacity = 0.2,\n",
    "            # Title for data legend\n",
    "            legend_name='Unemployment Rate %'\n",
    ")\n",
    "#creates a layer control object used for handling multiple layers\n",
    "folium.LayerControl().add_to(m)\n",
    "# save the map into an HTML file\n",
    "m.save('map.html')"
   ]
  },
  {
   "cell_type": "code",
   "execution_count": 18,
   "metadata": {},
   "outputs": [],
   "source": []
  },
  {
   "cell_type": "code",
   "execution_count": null,
   "metadata": {},
   "outputs": [],
   "source": []
  },
  {
   "cell_type": "code",
   "execution_count": null,
   "metadata": {},
   "outputs": [],
   "source": []
  }
 ],
 "metadata": {
  "kernelspec": {
   "display_name": "Python 2",
   "language": "python",
   "name": "python2"
  },
  "language_info": {
   "codemirror_mode": {
    "name": "ipython",
    "version": 2
   },
   "file_extension": ".py",
   "mimetype": "text/x-python",
   "name": "python",
   "nbconvert_exporter": "python",
   "pygments_lexer": "ipython2",
   "version": "2.7.15rc1"
  }
 },
 "nbformat": 4,
 "nbformat_minor": 2
}
